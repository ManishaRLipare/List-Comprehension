{
 "cells": [
  {
   "cell_type": "markdown",
   "id": "877f0c17",
   "metadata": {},
   "source": [
    "### Iteration with list comprehension"
   ]
  },
  {
   "cell_type": "code",
   "execution_count": 1,
   "id": "528bb718",
   "metadata": {},
   "outputs": [
    {
     "name": "stdout",
     "output_type": "stream",
     "text": [
      "Enter a list:[1,2,3,4,5,6,7]\n",
      "[1, 2, 3, 4, 5, 6, 7]\n"
     ]
    }
   ],
   "source": [
    "l = eval(input('Enter a list:'))\n",
    "print([i for i in l])"
   ]
  },
  {
   "cell_type": "code",
   "execution_count": 3,
   "id": "401fb0c0",
   "metadata": {},
   "outputs": [
    {
     "name": "stdout",
     "output_type": "stream",
     "text": [
      "Enter a list:['Manisha','Rakesh','Lipare']\n",
      "['Manisha', 'Rakesh', 'Lipare']\n"
     ]
    }
   ],
   "source": [
    "l = eval(input('Enter a list:'))\n",
    "print([i for i in l])"
   ]
  },
  {
   "cell_type": "code",
   "execution_count": 5,
   "id": "76e604ef",
   "metadata": {},
   "outputs": [
    {
     "name": "stdout",
     "output_type": "stream",
     "text": [
      "Enter a list:['manisha']\n",
      "['manisha']\n"
     ]
    }
   ],
   "source": [
    "l = eval(input('Enter a list:'))\n",
    "print([i for i in l])"
   ]
  },
  {
   "cell_type": "markdown",
   "id": "b72778b5",
   "metadata": {},
   "source": [
    "### Even list "
   ]
  },
  {
   "cell_type": "code",
   "execution_count": 2,
   "id": "c246a4ec",
   "metadata": {},
   "outputs": [
    {
     "name": "stdout",
     "output_type": "stream",
     "text": [
      "Enter a list:[1,2,3,4,5,6,7,8,9,10]\n",
      "[2, 4, 6, 8, 10]\n"
     ]
    }
   ],
   "source": [
    "l = eval(input('Enter a list:'))\n",
    "print([i for i in l if i%2 == 0])"
   ]
  },
  {
   "cell_type": "markdown",
   "id": "295fbb83",
   "metadata": {},
   "source": [
    "### Display square of numbers from 1 to 100"
   ]
  },
  {
   "cell_type": "code",
   "execution_count": 8,
   "id": "d30797bc",
   "metadata": {},
   "outputs": [
    {
     "name": "stdout",
     "output_type": "stream",
     "text": [
      "[1, 4, 9, 16, 25, 36, 49, 64, 81, 100, 121, 144, 169, 196, 225, 256, 289, 324, 361, 400, 441, 484, 529, 576, 625, 676, 729, 784, 841, 900, 961, 1024, 1089, 1156, 1225, 1296, 1369, 1444, 1521, 1600, 1681, 1764, 1849, 1936, 2025, 2116, 2209, 2304, 2401, 2500, 2601, 2704, 2809, 2916, 3025, 3136, 3249, 3364, 3481, 3600, 3721, 3844, 3969, 4096, 4225, 4356, 4489, 4624, 4761, 4900, 5041, 5184, 5329, 5476, 5625, 5776, 5929, 6084, 6241, 6400, 6561, 6724, 6889, 7056, 7225, 7396, 7569, 7744, 7921, 8100, 8281, 8464, 8649, 8836, 9025, 9216, 9409, 9604, 9801, 10000]\n"
     ]
    }
   ],
   "source": [
    "print([i**2 for i in range(1,101)])"
   ]
  },
  {
   "cell_type": "markdown",
   "id": "03243cc1",
   "metadata": {},
   "source": [
    "### To print square of odd numbers"
   ]
  },
  {
   "cell_type": "code",
   "execution_count": 15,
   "id": "5b812fd5",
   "metadata": {},
   "outputs": [
    {
     "name": "stdout",
     "output_type": "stream",
     "text": [
      "Enter a numbers:[1,2,3,4,5,6,7]\n",
      "{1: 1, 3: 9, 5: 25, 7: 49}\n"
     ]
    }
   ],
   "source": [
    "n = eval(input('Enter a numbers:'))\n",
    "print({i:i*i for i in n if i%2 !=0})"
   ]
  },
  {
   "cell_type": "code",
   "execution_count": null,
   "id": "de4d667b",
   "metadata": {},
   "outputs": [],
   "source": []
  }
 ],
 "metadata": {
  "kernelspec": {
   "display_name": "Python 3 (ipykernel)",
   "language": "python",
   "name": "python3"
  },
  "language_info": {
   "codemirror_mode": {
    "name": "ipython",
    "version": 3
   },
   "file_extension": ".py",
   "mimetype": "text/x-python",
   "name": "python",
   "nbconvert_exporter": "python",
   "pygments_lexer": "ipython3",
   "version": "3.9.12"
  }
 },
 "nbformat": 4,
 "nbformat_minor": 5
}
